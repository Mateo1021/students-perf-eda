{
 "cells": [
  {
   "cell_type": "code",
   "execution_count": 55,
   "id": "e921c4b5-5497-4b0a-90f1-df9cef97207a",
   "metadata": {},
   "outputs": [],
   "source": [
    "import pandas as pd\n",
    "import matplotlib.pyplot as plt\n",
    "import numpy as np\n",
    "import seaborn as sbn\n",
    "import graphviz \n",
    "import pandas as pd\n",
    "from pandas_profiling import ProfileReport\n",
    "\n",
    "\n",
    "# Graficar inline\n",
    "%matplotlib inline\n"
   ]
  },
  {
   "cell_type": "code",
   "execution_count": 56,
   "id": "b724d2bf-186c-4846-9b4c-d966eb9c6783",
   "metadata": {},
   "outputs": [],
   "source": [
    "estud =  pd.read_csv('./data/StudentsPerformance.csv', sep=',', engine='python')"
   ]
  },
  {
   "cell_type": "code",
   "execution_count": 57,
   "id": "945bfd9a-7f9d-42b9-9a4d-26cdec2c4e39",
   "metadata": {},
   "outputs": [
    {
     "data": {
      "application/vnd.jupyter.widget-view+json": {
       "model_id": "ad79ea2080394ace93196a262cfee65a",
       "version_major": 2,
       "version_minor": 0
      },
      "text/plain": [
       "Summarize dataset:   0%|          | 0/21 [00:00<?, ?it/s]"
      ]
     },
     "metadata": {},
     "output_type": "display_data"
    },
    {
     "data": {
      "application/vnd.jupyter.widget-view+json": {
       "model_id": "7051757236204e5288e94314cfc09442",
       "version_major": 2,
       "version_minor": 0
      },
      "text/plain": [
       "Generate report structure:   0%|          | 0/1 [00:00<?, ?it/s]"
      ]
     },
     "metadata": {},
     "output_type": "display_data"
    },
    {
     "data": {
      "application/vnd.jupyter.widget-view+json": {
       "model_id": "9a8a84ed5ed045c4903ed9ad779e3e7d",
       "version_major": 2,
       "version_minor": 0
      },
      "text/plain": [
       "Render HTML:   0%|          | 0/1 [00:00<?, ?it/s]"
      ]
     },
     "metadata": {},
     "output_type": "display_data"
    },
    {
     "data": {
      "application/vnd.jupyter.widget-view+json": {
       "model_id": "2b0787b6db134ad5bed5be55f2c011b4",
       "version_major": 2,
       "version_minor": 0
      },
      "text/plain": [
       "Export report to file:   0%|          | 0/1 [00:00<?, ?it/s]"
      ]
     },
     "metadata": {},
     "output_type": "display_data"
    }
   ],
   "source": [
    "from pandas_profiling import ProfileReport\n",
    "prof = ProfileReport(estud)\n",
    "prof.to_file(output_file='output.html')"
   ]
  },
  {
   "cell_type": "code",
   "execution_count": 58,
   "id": "820ce2d0-1f17-41e0-84b5-411b3b892e93",
   "metadata": {},
   "outputs": [
    {
     "data": {
      "text/html": [
       "<div>\n",
       "<style scoped>\n",
       "    .dataframe tbody tr th:only-of-type {\n",
       "        vertical-align: middle;\n",
       "    }\n",
       "\n",
       "    .dataframe tbody tr th {\n",
       "        vertical-align: top;\n",
       "    }\n",
       "\n",
       "    .dataframe thead th {\n",
       "        text-align: right;\n",
       "    }\n",
       "</style>\n",
       "<table border=\"1\" class=\"dataframe\">\n",
       "  <thead>\n",
       "    <tr style=\"text-align: right;\">\n",
       "      <th></th>\n",
       "      <th>gender</th>\n",
       "      <th>race/ethnicity</th>\n",
       "      <th>parental level of education</th>\n",
       "      <th>lunch</th>\n",
       "      <th>test preparation course</th>\n",
       "      <th>math score</th>\n",
       "      <th>reading score</th>\n",
       "      <th>writing score</th>\n",
       "    </tr>\n",
       "  </thead>\n",
       "  <tbody>\n",
       "    <tr>\n",
       "      <th>0</th>\n",
       "      <td>female</td>\n",
       "      <td>group B</td>\n",
       "      <td>bachelor's degree</td>\n",
       "      <td>standard</td>\n",
       "      <td>none</td>\n",
       "      <td>72</td>\n",
       "      <td>72</td>\n",
       "      <td>74</td>\n",
       "    </tr>\n",
       "    <tr>\n",
       "      <th>1</th>\n",
       "      <td>female</td>\n",
       "      <td>group C</td>\n",
       "      <td>some college</td>\n",
       "      <td>standard</td>\n",
       "      <td>completed</td>\n",
       "      <td>69</td>\n",
       "      <td>90</td>\n",
       "      <td>88</td>\n",
       "    </tr>\n",
       "    <tr>\n",
       "      <th>2</th>\n",
       "      <td>female</td>\n",
       "      <td>group B</td>\n",
       "      <td>master's degree</td>\n",
       "      <td>standard</td>\n",
       "      <td>none</td>\n",
       "      <td>90</td>\n",
       "      <td>95</td>\n",
       "      <td>93</td>\n",
       "    </tr>\n",
       "    <tr>\n",
       "      <th>3</th>\n",
       "      <td>male</td>\n",
       "      <td>group A</td>\n",
       "      <td>associate's degree</td>\n",
       "      <td>free/reduced</td>\n",
       "      <td>none</td>\n",
       "      <td>47</td>\n",
       "      <td>57</td>\n",
       "      <td>44</td>\n",
       "    </tr>\n",
       "    <tr>\n",
       "      <th>4</th>\n",
       "      <td>male</td>\n",
       "      <td>group C</td>\n",
       "      <td>some college</td>\n",
       "      <td>standard</td>\n",
       "      <td>none</td>\n",
       "      <td>76</td>\n",
       "      <td>78</td>\n",
       "      <td>75</td>\n",
       "    </tr>\n",
       "    <tr>\n",
       "      <th>...</th>\n",
       "      <td>...</td>\n",
       "      <td>...</td>\n",
       "      <td>...</td>\n",
       "      <td>...</td>\n",
       "      <td>...</td>\n",
       "      <td>...</td>\n",
       "      <td>...</td>\n",
       "      <td>...</td>\n",
       "    </tr>\n",
       "    <tr>\n",
       "      <th>995</th>\n",
       "      <td>female</td>\n",
       "      <td>group E</td>\n",
       "      <td>master's degree</td>\n",
       "      <td>standard</td>\n",
       "      <td>completed</td>\n",
       "      <td>88</td>\n",
       "      <td>99</td>\n",
       "      <td>95</td>\n",
       "    </tr>\n",
       "    <tr>\n",
       "      <th>996</th>\n",
       "      <td>male</td>\n",
       "      <td>group C</td>\n",
       "      <td>high school</td>\n",
       "      <td>free/reduced</td>\n",
       "      <td>none</td>\n",
       "      <td>62</td>\n",
       "      <td>55</td>\n",
       "      <td>55</td>\n",
       "    </tr>\n",
       "    <tr>\n",
       "      <th>997</th>\n",
       "      <td>female</td>\n",
       "      <td>group C</td>\n",
       "      <td>high school</td>\n",
       "      <td>free/reduced</td>\n",
       "      <td>completed</td>\n",
       "      <td>59</td>\n",
       "      <td>71</td>\n",
       "      <td>65</td>\n",
       "    </tr>\n",
       "    <tr>\n",
       "      <th>998</th>\n",
       "      <td>female</td>\n",
       "      <td>group D</td>\n",
       "      <td>some college</td>\n",
       "      <td>standard</td>\n",
       "      <td>completed</td>\n",
       "      <td>68</td>\n",
       "      <td>78</td>\n",
       "      <td>77</td>\n",
       "    </tr>\n",
       "    <tr>\n",
       "      <th>999</th>\n",
       "      <td>female</td>\n",
       "      <td>group D</td>\n",
       "      <td>some college</td>\n",
       "      <td>free/reduced</td>\n",
       "      <td>none</td>\n",
       "      <td>77</td>\n",
       "      <td>86</td>\n",
       "      <td>86</td>\n",
       "    </tr>\n",
       "  </tbody>\n",
       "</table>\n",
       "<p>1000 rows × 8 columns</p>\n",
       "</div>"
      ],
      "text/plain": [
       "     gender race/ethnicity parental level of education         lunch  \\\n",
       "0    female        group B           bachelor's degree      standard   \n",
       "1    female        group C                some college      standard   \n",
       "2    female        group B             master's degree      standard   \n",
       "3      male        group A          associate's degree  free/reduced   \n",
       "4      male        group C                some college      standard   \n",
       "..      ...            ...                         ...           ...   \n",
       "995  female        group E             master's degree      standard   \n",
       "996    male        group C                 high school  free/reduced   \n",
       "997  female        group C                 high school  free/reduced   \n",
       "998  female        group D                some college      standard   \n",
       "999  female        group D                some college  free/reduced   \n",
       "\n",
       "    test preparation course  math score  reading score  writing score  \n",
       "0                      none          72             72             74  \n",
       "1                 completed          69             90             88  \n",
       "2                      none          90             95             93  \n",
       "3                      none          47             57             44  \n",
       "4                      none          76             78             75  \n",
       "..                      ...         ...            ...            ...  \n",
       "995               completed          88             99             95  \n",
       "996                    none          62             55             55  \n",
       "997               completed          59             71             65  \n",
       "998               completed          68             78             77  \n",
       "999                    none          77             86             86  \n",
       "\n",
       "[1000 rows x 8 columns]"
      ]
     },
     "execution_count": 58,
     "metadata": {},
     "output_type": "execute_result"
    }
   ],
   "source": [
    "estud"
   ]
  },
  {
   "cell_type": "code",
   "execution_count": 113,
   "id": "894d29f3-fccf-4708-bca1-751ab4a8446c",
   "metadata": {},
   "outputs": [],
   "source": [
    "estud = estud.rename(columns={'writing score':'writing_score','parental level of education':'parental_level_of_education','math score':'math_score',\n",
    "                             'reading score':'reading_score','test preparation course':'test_preparation_course'})"
   ]
  },
  {
   "cell_type": "code",
   "execution_count": 114,
   "id": "5fdcc092-6e2f-4dd3-b4aa-34d75563e53b",
   "metadata": {},
   "outputs": [
    {
     "data": {
      "text/plain": [
       "gender                         object\n",
       "race/ethnicity                 object\n",
       "parental_level_of_education    object\n",
       "lunch                          object\n",
       "test_preparation_course        object\n",
       "math_score                      int64\n",
       "reading_score                   int64\n",
       "writing_score                   int64\n",
       "dtype: object"
      ]
     },
     "execution_count": 114,
     "metadata": {},
     "output_type": "execute_result"
    }
   ],
   "source": [
    "estud.dtypes"
   ]
  },
  {
   "cell_type": "code",
   "execution_count": null,
   "id": "b45abc36-8669-44ab-8c5e-81e58321dcff",
   "metadata": {},
   "outputs": [],
   "source": []
  },
  {
   "cell_type": "code",
   "execution_count": null,
   "id": "048ac662-eb7a-4cb2-aa70-2773a5c601b6",
   "metadata": {},
   "outputs": [],
   "source": [
    "mat=estud['math score'].mean()\n",
    "read=estud['reading score'].mean()\n",
    "wrt=estud['writing score'].mean()\n",
    "\n",
    "lista= estud\n"
   ]
  },
  {
   "cell_type": "code",
   "execution_count": null,
   "id": "e58b49a4-8f37-4952-9366-4a8351fcac2c",
   "metadata": {},
   "outputs": [],
   "source": [
    "x_values = 'Matematicas','Lectura','Escritura'\n",
    "y_values = mat ,read, wrt\n",
    "plt.bar(x_values, y_values)\n",
    "plt.show()\n",
    "plt.close('all')\n"
   ]
  },
  {
   "cell_type": "code",
   "execution_count": null,
   "id": "14752f3e-906e-4f17-82d4-6e3d8e14b539",
   "metadata": {},
   "outputs": [],
   "source": [
    "##¿En qué asignatura en promedio los estudiantes obtuvieron un mejor puntaje? = Lectura. con un promedio de 69.169"
   ]
  },
  {
   "cell_type": "code",
   "execution_count": null,
   "id": "8dcb6247-06cf-4ffd-a652-07d6ecac9e43",
   "metadata": {},
   "outputs": [],
   "source": [
    "#Correlation Matrix   \n",
    "corr = estud.corr()\n",
    "\n",
    "#print(\"\\nCorrelation matrix:\\n\")\n",
    "#print(corr)\n",
    "\n",
    "#Correlation plot\n",
    "fig = plt.figure(figsize=(7, 7))\n",
    "plt.matshow(corr, fignum=fig.number)\n",
    "plt.xticks(range(len(corr.columns)), corr.columns,fontsize=20, rotation=45);\n",
    "plt.yticks(range(len(corr.columns)), corr.columns,fontsize=20, rotation=45);\n",
    "cb = plt.colorbar()\n",
    "cb.ax.tick_params(labelsize=8)\n",
    "plt.show()  "
   ]
  },
  {
   "cell_type": "code",
   "execution_count": null,
   "id": "0be05f9c-e03e-4218-ae37-9d058d9d74c8",
   "metadata": {},
   "outputs": [],
   "source": [
    "##¿Existe alguna correlación entre los puntajes obtenidos en las tres asignaturas? \n",
    "##como se puede ver la correlacion entre writing score y reading score es considerablemente notable"
   ]
  },
  {
   "cell_type": "code",
   "execution_count": 88,
   "id": "1eda8015-e25f-49d3-966b-0f94906a3b6a",
   "metadata": {},
   "outputs": [],
   "source": [
    "lista = estud[['gender','math score']]\n"
   ]
  },
  {
   "cell_type": "code",
   "execution_count": 96,
   "id": "a288d97b-74fe-48d2-bb6f-e69057b0d63d",
   "metadata": {},
   "outputs": [
    {
     "name": "stdout",
     "output_type": "stream",
     "text": [
      "El promedio de los estudiantes hombres en matematias es de: 68.72821576763485\n"
     ]
    }
   ],
   "source": [
    "\n",
    "##lista.drop(['race/ethnicity', 'parental level of education', 'lunch','test preparation course','writing score','reading score'], axis=1)\n",
    "listaM = lista[lista.gender == 'male']\n",
    "listaF = lista[lista.gender == 'female']\n",
    "prom=listaM['math score'].mean()\n",
    "print('El promedio de los estudiantes hombres en matematias es de: '+str(listaM['math score'].mean()))\n",
    "\n"
   ]
  },
  {
   "cell_type": "code",
   "execution_count": 97,
   "id": "630eb1fc-2ddd-42fa-a173-d3ee07dde58f",
   "metadata": {},
   "outputs": [
    {
     "name": "stdout",
     "output_type": "stream",
     "text": [
      "El promedio de los estudiantes mujeres en matematias es de: 63.633204633204635\n"
     ]
    }
   ],
   "source": [
    "print('El promedio de los estudiantes mujeres en matematias es de: '+str(listaF['math score'].mean()))"
   ]
  },
  {
   "cell_type": "code",
   "execution_count": 98,
   "id": "2b5c4f54-1a5b-45ca-9399-d9c6d9694c8e",
   "metadata": {},
   "outputs": [],
   "source": [
    "##¿Hay alguna diferencia observable en los puntajes de la asignatura de\n",
    "##matemáticas entre hombres y mujeres? ¿Quiénes, hombres o mujeres, tienen la\n",
    "##mediana más alta para esta misma asignatura? \n",
    "##Los hombres tienen un promedio de 68.72821576763485 considerablemente mayor al de las mujeres en matematicas "
   ]
  },
  {
   "cell_type": "code",
   "execution_count": 118,
   "id": "fc845998-21e0-42f3-acca-461e817b044b",
   "metadata": {},
   "outputs": [
    {
     "data": {
      "text/plain": [
       "associate's degree    19\n",
       "some college          18\n",
       "bachelor's degree     15\n",
       "master's degree       10\n",
       "some high school       5\n",
       "high school            1\n",
       "Name: parental_level_of_education, dtype: int64"
      ]
     },
     "execution_count": 118,
     "metadata": {},
     "output_type": "execute_result"
    }
   ],
   "source": [
    "nivel = estud[estud.writing_score > 90]\n",
    "nivel['parental_level_of_education'].value_counts() "
   ]
  },
  {
   "cell_type": "code",
   "execution_count": 119,
   "id": "2ecf25b9-1040-4bcf-bbaf-1834a455f10f",
   "metadata": {},
   "outputs": [],
   "source": [
    "## ¿Qué nivel de escolaridad tienen los padres de los estudiantes que obtuvieron\n",
    "##un puntaje superior a 90 en la asignatura de escritura? Liste los niveles de\n",
    "##escolaridad del más al menos frecuente.\n",
    "\n",
    "\n",
    "## El nivel con mayor frecuencia es 'associate's degree' "
   ]
  },
  {
   "cell_type": "code",
   "execution_count": 134,
   "id": "fa1cd118-4087-4161-9658-434aa1fcceac",
   "metadata": {},
   "outputs": [],
   "source": [
    "estudPro = estud[estud.writing_score >= 90]\n",
    "estudPro= estudPro[estudPro.reading_score >= 90]\n",
    "estudPro= estudPro[estudPro.math_score >= 90]"
   ]
  },
  {
   "cell_type": "code",
   "execution_count": 136,
   "id": "7c375a0c-3887-4d4c-b31a-ff213f9a1301",
   "metadata": {},
   "outputs": [],
   "source": [
    "estudProE=estudPro[estudPro.test_preparation_course == 'completed']"
   ]
  },
  {
   "cell_type": "code",
   "execution_count": 151,
   "id": "bae653cb-2e62-43c8-bee0-4b0b695a9ee3",
   "metadata": {},
   "outputs": [
    {
     "data": {
      "text/plain": [
       "2.8000000000000003"
      ]
     },
     "execution_count": 151,
     "metadata": {},
     "output_type": "execute_result"
    }
   ],
   "source": [
    "porEstudP = estudPro.shape[0]\n",
    "porEstudP = (porEstudP /estud.shape[0]) * 100\n",
    "porEstudP"
   ]
  },
  {
   "cell_type": "code",
   "execution_count": 155,
   "id": "492cf583-76c7-4ead-8af8-cec10a830509",
   "metadata": {},
   "outputs": [
    {
     "data": {
      "text/plain": [
       "1.7000000000000002"
      ]
     },
     "execution_count": 155,
     "metadata": {},
     "output_type": "execute_result"
    }
   ],
   "source": [
    "porEstudPE= estudProE.shape[0]\n",
    "porEstudPE= (porEstudPE /estud.shape[0]) * 100\n",
    "porEstudPE"
   ]
  },
  {
   "cell_type": "code",
   "execution_count": null,
   "id": "a415006d-5fbc-4214-8aa5-c29bd5114b1e",
   "metadata": {},
   "outputs": [],
   "source": [
    "##¿Qué porcentaje de los estudiantes obtuvieron puntajes iguales o superiores a\n",
    "##90 en las tres asignaturas? ¿Qué porcentaje de los estudiantes obtuvieron\n",
    "##puntajes iguales o superiores a 90 en las tres asignaturas y que adicionalmente\n",
    "##estudiaron para los exámenes?"
   ]
  },
  {
   "cell_type": "code",
   "execution_count": 156,
   "id": "24086704-35a6-45af-9798-10c2d8b0fc4b",
   "metadata": {},
   "outputs": [
    {
     "name": "stdout",
     "output_type": "stream",
     "text": [
      "el porcentaje de estudiantes que sacaron 90 en las 3 asignaturas es : 2.8000000000000003\n"
     ]
    }
   ],
   "source": [
    "print('el porcentaje de estudiantes que sacaron 90 en las 3 asignaturas es : '+str(porEstudP))"
   ]
  },
  {
   "cell_type": "code",
   "execution_count": 157,
   "id": "2331294e-43d1-4db3-b410-189eb341d01f",
   "metadata": {},
   "outputs": [
    {
     "name": "stdout",
     "output_type": "stream",
     "text": [
      "el porcentaje de estudiantes que sacaron 90 en las 3 asignaturas y que estudiaron para los examenes fue de: 1.7000000000000002\n"
     ]
    }
   ],
   "source": [
    "print('el porcentaje de estudiantes que sacaron 90 en las 3 asignaturas y que estudiaron para los examenes fue de: '+str(porEstudPE))"
   ]
  },
  {
   "cell_type": "code",
   "execution_count": null,
   "id": "646e234c-b415-45d1-9d7b-2cbb71df3107",
   "metadata": {},
   "outputs": [],
   "source": []
  }
 ],
 "metadata": {
  "kernelspec": {
   "display_name": "Python 3",
   "language": "python",
   "name": "python3"
  },
  "language_info": {
   "codemirror_mode": {
    "name": "ipython",
    "version": 3
   },
   "file_extension": ".py",
   "mimetype": "text/x-python",
   "name": "python",
   "nbconvert_exporter": "python",
   "pygments_lexer": "ipython3",
   "version": "3.8.8"
  }
 },
 "nbformat": 4,
 "nbformat_minor": 5
}

